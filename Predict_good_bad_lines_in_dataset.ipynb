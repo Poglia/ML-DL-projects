{
  "nbformat": 4,
  "nbformat_minor": 0,
  "metadata": {
    "colab": {
      "name": "Predict good/bad lines in dataset.ipynb",
      "provenance": [],
      "authorship_tag": "ABX9TyP0CqErdjRbCoTC9sK0vN2B",
      "include_colab_link": true
    },
    "kernelspec": {
      "name": "python3",
      "display_name": "Python 3"
    },
    "language_info": {
      "name": "python"
    }
  },
  "cells": [
    {
      "cell_type": "markdown",
      "metadata": {
        "id": "view-in-github",
        "colab_type": "text"
      },
      "source": [
        "<a href=\"https://colab.research.google.com/github/semicolon123/ML-DL-projects/blob/main/Predict_good_bad_lines_in_dataset.ipynb\" target=\"_parent\"><img src=\"https://colab.research.google.com/assets/colab-badge.svg\" alt=\"Open In Colab\"/></a>"
      ]
    },
    {
      "cell_type": "code",
      "metadata": {
        "id": "Xpbhan6CU5s0"
      },
      "source": [
        "import pandas as pd"
      ],
      "execution_count": 49,
      "outputs": []
    },
    {
      "cell_type": "code",
      "metadata": {
        "colab": {
          "base_uri": "https://localhost:8080/",
          "height": 266
        },
        "id": "FF6dxmfXVJd_",
        "outputId": "f8b993f7-c783-4e7b-b4ee-650bd5a87003"
      },
      "source": [
        "# random lines some good others bad\n",
        "dataset = pd.read_csv('/content/sample_data/Random texts.csv') \n",
        "dataset.head(10)\n"
      ],
      "execution_count": 50,
      "outputs": [
        {
          "output_type": "execute_result",
          "data": {
            "text/html": [
              "<div>\n",
              "<style scoped>\n",
              "    .dataframe tbody tr th:only-of-type {\n",
              "        vertical-align: middle;\n",
              "    }\n",
              "\n",
              "    .dataframe tbody tr th {\n",
              "        vertical-align: top;\n",
              "    }\n",
              "\n",
              "    .dataframe thead th {\n",
              "        text-align: right;\n",
              "    }\n",
              "</style>\n",
              "<table border=\"1\" class=\"dataframe\">\n",
              "  <thead>\n",
              "    <tr style=\"text-align: right;\">\n",
              "      <th></th>\n",
              "      <th>Good/Bad</th>\n",
              "      <th>Line</th>\n",
              "    </tr>\n",
              "  </thead>\n",
              "  <tbody>\n",
              "    <tr>\n",
              "      <th>0</th>\n",
              "      <td>Good</td>\n",
              "      <td>You are awesome</td>\n",
              "    </tr>\n",
              "    <tr>\n",
              "      <th>1</th>\n",
              "      <td>Bad</td>\n",
              "      <td>You look ugly</td>\n",
              "    </tr>\n",
              "    <tr>\n",
              "      <th>2</th>\n",
              "      <td>Good</td>\n",
              "      <td>This is so nice</td>\n",
              "    </tr>\n",
              "    <tr>\n",
              "      <th>3</th>\n",
              "      <td>Good</td>\n",
              "      <td>I love this tea</td>\n",
              "    </tr>\n",
              "    <tr>\n",
              "      <th>4</th>\n",
              "      <td>Good</td>\n",
              "      <td>I like the food</td>\n",
              "    </tr>\n",
              "    <tr>\n",
              "      <th>5</th>\n",
              "      <td>Bad</td>\n",
              "      <td>I hated the food</td>\n",
              "    </tr>\n",
              "    <tr>\n",
              "      <th>6</th>\n",
              "      <td>Bad</td>\n",
              "      <td>You are worst person</td>\n",
              "    </tr>\n",
              "  </tbody>\n",
              "</table>\n",
              "</div>"
            ],
            "text/plain": [
              "  Good/Bad                  Line\n",
              "0     Good       You are awesome\n",
              "1      Bad         You look ugly\n",
              "2     Good       This is so nice\n",
              "3     Good       I love this tea\n",
              "4     Good       I like the food\n",
              "5      Bad      I hated the food\n",
              "6      Bad  You are worst person"
            ]
          },
          "metadata": {
            "tags": []
          },
          "execution_count": 50
        }
      ]
    },
    {
      "cell_type": "code",
      "metadata": {
        "id": "5d7kJhwkVXUh"
      },
      "source": [
        "import spacy\n",
        "# nlp lib to handle . I'm folowing bag fo words approach"
      ],
      "execution_count": 51,
      "outputs": []
    },
    {
      "cell_type": "code",
      "metadata": {
        "id": "6pAMBcmKVacv"
      },
      "source": [
        "nlp = spacy.blank(\"en\")  #model is called nlp\n",
        "\n",
        "# text categroizer wit std settings\n",
        "textcat = nlp.create_pipe(\"textcat\", config={\n",
        "                \"exclusive_classes\": True,\n",
        "                \"architecture\": \"bow\"}) #bow = bag of words\n",
        "\n",
        "nlp.add_pipe(textcat) #add textcat to nlp"
      ],
      "execution_count": 52,
      "outputs": []
    },
    {
      "cell_type": "code",
      "metadata": {
        "colab": {
          "base_uri": "https://localhost:8080/"
        },
        "id": "Zp2E9llcVlct",
        "outputId": "e9ce5298-0fae-4b77-ff99-41d6d367b9f3"
      },
      "source": [
        "textcat.add_label(\"Good\")#add labels\n",
        "textcat.add_label(\"Bad\")"
      ],
      "execution_count": 53,
      "outputs": [
        {
          "output_type": "execute_result",
          "data": {
            "text/plain": [
              "1"
            ]
          },
          "metadata": {
            "tags": []
          },
          "execution_count": 53
        }
      ]
    },
    {
      "cell_type": "code",
      "metadata": {
        "id": "e0qccTNzVrpZ"
      },
      "source": [
        "train_texts = dataset['Line'].values   #training a Text Categorizer Model\n",
        "train_labels = [{'keys': {'Bad': x == 'Bad', 'Good': x == 'Good'}} \n",
        "                for x in dataset['Good/Bad']]"
      ],
      "execution_count": 54,
      "outputs": []
    },
    {
      "cell_type": "code",
      "metadata": {
        "id": "DSWM0R5ZWZqI"
      },
      "source": [
        "from spacy.util import minibatch\n",
        "optimizer = nlp.begin_training() #create optmizer to be used by spacy to update the model\n",
        "\n",
        "batches = minibatch(train_data, size=8)   #spacy provides minibatch fn\n",
        "\n",
        "for batch in batches:\n",
        "    texts, labels = zip(*batch)\n",
        "    nlp.update(texts, labels, sgd=optimizer)"
      ],
      "execution_count": 58,
      "outputs": []
    },
    {
      "cell_type": "code",
      "metadata": {
        "colab": {
          "base_uri": "https://localhost:8080/"
        },
        "id": "VPEzd7SzWeYT",
        "outputId": "4bcf7044-b826-42e1-d4b3-248e535a4b58"
      },
      "source": [
        "# i mentioned all lines to be predicted in a 'texts' array\n",
        "Lines = [\"I look awesome\"]\n",
        "docs = [nlp.tokenizer(text) for text in Lines]\n",
        "    \n",
        "textcat = nlp.get_pipe('textcat')\n",
        "scores, _ = textcat.predict(docs)  #prob score for both classes (Good/bad)\n",
        "print(scores)"
      ],
      "execution_count": 67,
      "outputs": [
        {
          "output_type": "stream",
          "text": [
            "[[0.50299996 0.49700007]]\n"
          ],
          "name": "stdout"
        }
      ]
    },
    {
      "cell_type": "code",
      "metadata": {
        "colab": {
          "base_uri": "https://localhost:8080/"
        },
        "id": "_jasQSEBWs3a",
        "outputId": "beb536a0-da68-414b-97f0-aef1374c329b"
      },
      "source": [
        "predicted_labels = scores.argmax(axis=1)\n",
        "print([textcat.labels[label] for label in predicted_labels])"
      ],
      "execution_count": 69,
      "outputs": [
        {
          "output_type": "stream",
          "text": [
            "['Good']\n"
          ],
          "name": "stdout"
        }
      ]
    }
  ]
}